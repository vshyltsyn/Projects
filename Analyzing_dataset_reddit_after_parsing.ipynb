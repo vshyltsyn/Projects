{
 "cells": [
  {
   "cell_type": "markdown",
   "metadata": {},
   "source": [
    "Loading libraries"
   ]
  },
  {
   "cell_type": "code",
   "execution_count": 3,
   "metadata": {},
   "outputs": [],
   "source": [
    "import pandas as pd\n",
    "import numpy as np\n",
    "import matplotlib.pyplot as plt\n",
    "import seaborn as sns\n",
    "from datetime import datetime, timedelta"
   ]
  },
  {
   "cell_type": "markdown",
   "metadata": {},
   "source": [
    "Overview of data"
   ]
  },
  {
   "cell_type": "code",
   "execution_count": 4,
   "metadata": {},
   "outputs": [
    {
     "data": {
      "text/html": [
       "<div>\n",
       "<style scoped>\n",
       "    .dataframe tbody tr th:only-of-type {\n",
       "        vertical-align: middle;\n",
       "    }\n",
       "\n",
       "    .dataframe tbody tr th {\n",
       "        vertical-align: top;\n",
       "    }\n",
       "\n",
       "    .dataframe thead th {\n",
       "        text-align: right;\n",
       "    }\n",
       "</style>\n",
       "<table border=\"1\" class=\"dataframe\">\n",
       "  <thead>\n",
       "    <tr style=\"text-align: right;\">\n",
       "      <th></th>\n",
       "      <th>Unnamed: 0</th>\n",
       "      <th>user_name</th>\n",
       "      <th>date</th>\n",
       "      <th>comments_number</th>\n",
       "      <th>votes_number</th>\n",
       "      <th>title_of_post</th>\n",
       "      <th>type_of_post</th>\n",
       "      <th>snap_member</th>\n",
       "      <th>posted_photo</th>\n",
       "      <th>posted_video</th>\n",
       "    </tr>\n",
       "  </thead>\n",
       "  <tbody>\n",
       "    <tr>\n",
       "      <th>0</th>\n",
       "      <td>0</td>\n",
       "      <td>u/AutoModerator</td>\n",
       "      <td>10 days ago</td>\n",
       "      <td>0 comments</td>\n",
       "      <td>10</td>\n",
       "      <td>Monthly Request Thread - February 2022</td>\n",
       "      <td>REQUEST</td>\n",
       "      <td>None</td>\n",
       "      <td>None</td>\n",
       "      <td>None</td>\n",
       "    </tr>\n",
       "    <tr>\n",
       "      <th>1</th>\n",
       "      <td>1</td>\n",
       "      <td>u/ApocTheLegend</td>\n",
       "      <td>2 months ago</td>\n",
       "      <td>2 comments</td>\n",
       "      <td>3</td>\n",
       "      <td>Lens Fest Updates Thread! Join Live 12/7 - 12/...</td>\n",
       "      <td>DISCUSSION</td>\n",
       "      <td>Snap Lens Network Member</td>\n",
       "      <td>None</td>\n",
       "      <td>None</td>\n",
       "    </tr>\n",
       "    <tr>\n",
       "      <th>2</th>\n",
       "      <td>2</td>\n",
       "      <td>u/Dependent-Mood9358</td>\n",
       "      <td>15 hours ago</td>\n",
       "      <td>2 comments</td>\n",
       "      <td>10</td>\n",
       "      <td>New feature disappeared?</td>\n",
       "      <td>None</td>\n",
       "      <td>None</td>\n",
       "      <td>None</td>\n",
       "      <td>None</td>\n",
       "    </tr>\n",
       "    <tr>\n",
       "      <th>3</th>\n",
       "      <td>3</td>\n",
       "      <td>u/tronixa88</td>\n",
       "      <td>1 day ago</td>\n",
       "      <td>0 comments</td>\n",
       "      <td>1</td>\n",
       "      <td>[help] reverse tween with same interaction tap ?</td>\n",
       "      <td>HELP</td>\n",
       "      <td>None</td>\n",
       "      <td>None</td>\n",
       "      <td>None</td>\n",
       "    </tr>\n",
       "    <tr>\n",
       "      <th>4</th>\n",
       "      <td>4</td>\n",
       "      <td>u/co-opino</td>\n",
       "      <td>3 days ago</td>\n",
       "      <td>0 comments</td>\n",
       "      <td>20</td>\n",
       "      <td>Please help me identify this lens 😳</td>\n",
       "      <td>REQUEST</td>\n",
       "      <td>None</td>\n",
       "      <td>Post image</td>\n",
       "      <td>None</td>\n",
       "    </tr>\n",
       "    <tr>\n",
       "      <th>5</th>\n",
       "      <td>5</td>\n",
       "      <td>u/quontemplation</td>\n",
       "      <td>5 days ago</td>\n",
       "      <td>2 comments</td>\n",
       "      <td>16</td>\n",
       "      <td>Can someone help me rediscover this lens?</td>\n",
       "      <td>REQUEST</td>\n",
       "      <td>None</td>\n",
       "      <td>Post image</td>\n",
       "      <td>None</td>\n",
       "    </tr>\n",
       "    <tr>\n",
       "      <th>6</th>\n",
       "      <td>6</td>\n",
       "      <td>u/Jorikrosa</td>\n",
       "      <td>4 days ago</td>\n",
       "      <td>0 comments</td>\n",
       "      <td>0</td>\n",
       "      <td>I don't need to o to the gym anymore</td>\n",
       "      <td>None</td>\n",
       "      <td>None</td>\n",
       "      <td>None</td>\n",
       "      <td>None</td>\n",
       "    </tr>\n",
       "    <tr>\n",
       "      <th>7</th>\n",
       "      <td>7</td>\n",
       "      <td>u/Brilliant-Benefit903</td>\n",
       "      <td>7 days ago</td>\n",
       "      <td>2 comments</td>\n",
       "      <td>4</td>\n",
       "      <td>Track AR Snap ML</td>\n",
       "      <td>None</td>\n",
       "      <td>None</td>\n",
       "      <td>None</td>\n",
       "      <td>None</td>\n",
       "    </tr>\n",
       "    <tr>\n",
       "      <th>8</th>\n",
       "      <td>8</td>\n",
       "      <td>u/theultimaterob</td>\n",
       "      <td>7 days ago</td>\n",
       "      <td>4 comments</td>\n",
       "      <td>8</td>\n",
       "      <td>Which Chex Mix piece are you filter. (Rye Chip...</td>\n",
       "      <td>None</td>\n",
       "      <td>None</td>\n",
       "      <td>None</td>\n",
       "      <td>auto</td>\n",
       "    </tr>\n",
       "    <tr>\n",
       "      <th>9</th>\n",
       "      <td>9</td>\n",
       "      <td>u/Sudi9</td>\n",
       "      <td>7 days ago</td>\n",
       "      <td>1 comment</td>\n",
       "      <td>1</td>\n",
       "      <td>\"Memory Hugs\" + link (collab with JpPirie)</td>\n",
       "      <td>NEW LENS</td>\n",
       "      <td>None</td>\n",
       "      <td>None</td>\n",
       "      <td>auto</td>\n",
       "    </tr>\n",
       "    <tr>\n",
       "      <th>10</th>\n",
       "      <td>10</td>\n",
       "      <td>u/Zarquan314</td>\n",
       "      <td>7 days ago</td>\n",
       "      <td>0 comments</td>\n",
       "      <td>1</td>\n",
       "      <td>Make one filter apply only when the other isn'...</td>\n",
       "      <td>None</td>\n",
       "      <td>None</td>\n",
       "      <td>None</td>\n",
       "      <td>None</td>\n",
       "    </tr>\n",
       "    <tr>\n",
       "      <th>11</th>\n",
       "      <td>11</td>\n",
       "      <td>u/Zarquan314</td>\n",
       "      <td>9 days ago</td>\n",
       "      <td>3 comments</td>\n",
       "      <td>7</td>\n",
       "      <td>Face/body detection filter</td>\n",
       "      <td>None</td>\n",
       "      <td>None</td>\n",
       "      <td>None</td>\n",
       "      <td>None</td>\n",
       "    </tr>\n",
       "    <tr>\n",
       "      <th>12</th>\n",
       "      <td>12</td>\n",
       "      <td>u/Besniik</td>\n",
       "      <td>10 days ago</td>\n",
       "      <td>1 comment</td>\n",
       "      <td>17</td>\n",
       "      <td>Searching for a lens, i’ve been looking everyw...</td>\n",
       "      <td>None</td>\n",
       "      <td>None</td>\n",
       "      <td>None</td>\n",
       "      <td>None</td>\n",
       "    </tr>\n",
       "    <tr>\n",
       "      <th>13</th>\n",
       "      <td>13</td>\n",
       "      <td>u/K8Simsley</td>\n",
       "      <td>10 days ago</td>\n",
       "      <td>3 comments</td>\n",
       "      <td>1</td>\n",
       "      <td>Looking for a lens that covers most of/entire ...</td>\n",
       "      <td>None</td>\n",
       "      <td>None</td>\n",
       "      <td>None</td>\n",
       "      <td>None</td>\n",
       "    </tr>\n",
       "    <tr>\n",
       "      <th>14</th>\n",
       "      <td>14</td>\n",
       "      <td>u/Sudi9</td>\n",
       "      <td>12 days ago</td>\n",
       "      <td>1 comment</td>\n",
       "      <td>51</td>\n",
       "      <td>\"David\" + link in comment</td>\n",
       "      <td>NEW LENS</td>\n",
       "      <td>None</td>\n",
       "      <td>None</td>\n",
       "      <td>None</td>\n",
       "    </tr>\n",
       "    <tr>\n",
       "      <th>15</th>\n",
       "      <td>15</td>\n",
       "      <td>u/pusssacat</td>\n",
       "      <td>11 days ago</td>\n",
       "      <td>0 comments</td>\n",
       "      <td>0</td>\n",
       "      <td>Me vs me with snap filter... am I over sensiti...</td>\n",
       "      <td>None</td>\n",
       "      <td>None</td>\n",
       "      <td>None</td>\n",
       "      <td>None</td>\n",
       "    </tr>\n",
       "    <tr>\n",
       "      <th>16</th>\n",
       "      <td>16</td>\n",
       "      <td>u/SpatialComputing</td>\n",
       "      <td>13 days ago</td>\n",
       "      <td>1 comment</td>\n",
       "      <td>15</td>\n",
       "      <td>SNAP custom landmarker example — snapchat's au...</td>\n",
       "      <td>LENS IN USE</td>\n",
       "      <td>None</td>\n",
       "      <td>None</td>\n",
       "      <td>auto</td>\n",
       "    </tr>\n",
       "    <tr>\n",
       "      <th>17</th>\n",
       "      <td>17</td>\n",
       "      <td>u/Doctor_DTS</td>\n",
       "      <td>14 days ago</td>\n",
       "      <td>2 comments</td>\n",
       "      <td>10</td>\n",
       "      <td>Friends and I keep getting: \"You're using an o...</td>\n",
       "      <td>HELP</td>\n",
       "      <td>None</td>\n",
       "      <td>None</td>\n",
       "      <td>None</td>\n",
       "    </tr>\n",
       "    <tr>\n",
       "      <th>18</th>\n",
       "      <td>18</td>\n",
       "      <td>u/Firm-Invite841</td>\n",
       "      <td>14 days ago</td>\n",
       "      <td>0 comments</td>\n",
       "      <td>0</td>\n",
       "      <td>Snap</td>\n",
       "      <td>None</td>\n",
       "      <td>None</td>\n",
       "      <td>None</td>\n",
       "      <td>None</td>\n",
       "    </tr>\n",
       "    <tr>\n",
       "      <th>19</th>\n",
       "      <td>19</td>\n",
       "      <td>u/theultimaterob</td>\n",
       "      <td>15 days ago</td>\n",
       "      <td>2 comments</td>\n",
       "      <td>20</td>\n",
       "      <td>Is there any way to see what big accounts are ...</td>\n",
       "      <td>None</td>\n",
       "      <td>None</td>\n",
       "      <td>None</td>\n",
       "      <td>None</td>\n",
       "    </tr>\n",
       "  </tbody>\n",
       "</table>\n",
       "</div>"
      ],
      "text/plain": [
       "    Unnamed: 0               user_name          date comments_number  \\\n",
       "0            0         u/AutoModerator   10 days ago      0 comments   \n",
       "1            1         u/ApocTheLegend  2 months ago      2 comments   \n",
       "2            2    u/Dependent-Mood9358  15 hours ago      2 comments   \n",
       "3            3             u/tronixa88     1 day ago      0 comments   \n",
       "4            4              u/co-opino    3 days ago      0 comments   \n",
       "5            5        u/quontemplation    5 days ago      2 comments   \n",
       "6            6             u/Jorikrosa    4 days ago      0 comments   \n",
       "7            7  u/Brilliant-Benefit903    7 days ago      2 comments   \n",
       "8            8        u/theultimaterob    7 days ago      4 comments   \n",
       "9            9                 u/Sudi9    7 days ago       1 comment   \n",
       "10          10            u/Zarquan314    7 days ago      0 comments   \n",
       "11          11            u/Zarquan314    9 days ago      3 comments   \n",
       "12          12               u/Besniik   10 days ago       1 comment   \n",
       "13          13             u/K8Simsley   10 days ago      3 comments   \n",
       "14          14                 u/Sudi9   12 days ago       1 comment   \n",
       "15          15             u/pusssacat   11 days ago      0 comments   \n",
       "16          16      u/SpatialComputing   13 days ago       1 comment   \n",
       "17          17            u/Doctor_DTS   14 days ago      2 comments   \n",
       "18          18        u/Firm-Invite841   14 days ago      0 comments   \n",
       "19          19        u/theultimaterob   15 days ago      2 comments   \n",
       "\n",
       "    votes_number                                      title_of_post  \\\n",
       "0             10             Monthly Request Thread - February 2022   \n",
       "1              3  Lens Fest Updates Thread! Join Live 12/7 - 12/...   \n",
       "2             10                           New feature disappeared?   \n",
       "3              1   [help] reverse tween with same interaction tap ?   \n",
       "4             20                Please help me identify this lens 😳   \n",
       "5             16          Can someone help me rediscover this lens?   \n",
       "6              0               I don't need to o to the gym anymore   \n",
       "7              4                                   Track AR Snap ML   \n",
       "8              8  Which Chex Mix piece are you filter. (Rye Chip...   \n",
       "9              1         \"Memory Hugs\" + link (collab with JpPirie)   \n",
       "10             1  Make one filter apply only when the other isn'...   \n",
       "11             7                         Face/body detection filter   \n",
       "12            17  Searching for a lens, i’ve been looking everyw...   \n",
       "13             1  Looking for a lens that covers most of/entire ...   \n",
       "14            51                          \"David\" + link in comment   \n",
       "15             0  Me vs me with snap filter... am I over sensiti...   \n",
       "16            15  SNAP custom landmarker example — snapchat's au...   \n",
       "17            10  Friends and I keep getting: \"You're using an o...   \n",
       "18             0                                               Snap   \n",
       "19            20  Is there any way to see what big accounts are ...   \n",
       "\n",
       "   type_of_post               snap_member posted_photo posted_video  \n",
       "0       REQUEST                      None         None         None  \n",
       "1    DISCUSSION  Snap Lens Network Member         None         None  \n",
       "2          None                      None         None         None  \n",
       "3          HELP                      None         None         None  \n",
       "4       REQUEST                      None   Post image         None  \n",
       "5       REQUEST                      None   Post image         None  \n",
       "6          None                      None         None         None  \n",
       "7          None                      None         None         None  \n",
       "8          None                      None         None         auto  \n",
       "9      NEW LENS                      None         None         auto  \n",
       "10         None                      None         None         None  \n",
       "11         None                      None         None         None  \n",
       "12         None                      None         None         None  \n",
       "13         None                      None         None         None  \n",
       "14     NEW LENS                      None         None         None  \n",
       "15         None                      None         None         None  \n",
       "16  LENS IN USE                      None         None         auto  \n",
       "17         HELP                      None         None         None  \n",
       "18         None                      None         None         None  \n",
       "19         None                      None         None         None  "
      ]
     },
     "metadata": {},
     "output_type": "display_data"
    }
   ],
   "source": [
    "df = pd.read_csv('df.csv')\n",
    "display(df.head(20))"
   ]
  },
  {
   "cell_type": "code",
   "execution_count": 5,
   "metadata": {},
   "outputs": [],
   "source": [
    "df = df.drop(['Unnamed: 0'], axis = 1)"
   ]
  },
  {
   "cell_type": "code",
   "execution_count": 6,
   "metadata": {},
   "outputs": [
    {
     "name": "stdout",
     "output_type": "stream",
     "text": [
      "<class 'pandas.core.frame.DataFrame'>\n",
      "RangeIndex: 618 entries, 0 to 617\n",
      "Data columns (total 9 columns):\n",
      " #   Column           Non-Null Count  Dtype \n",
      "---  ------           --------------  ----- \n",
      " 0   user_name        618 non-null    object\n",
      " 1   date             618 non-null    object\n",
      " 2   comments_number  618 non-null    object\n",
      " 3   votes_number     618 non-null    int64 \n",
      " 4   title_of_post    618 non-null    object\n",
      " 5   type_of_post     618 non-null    object\n",
      " 6   snap_member      618 non-null    object\n",
      " 7   posted_photo     618 non-null    object\n",
      " 8   posted_video     618 non-null    object\n",
      "dtypes: int64(1), object(8)\n",
      "memory usage: 43.6+ KB\n"
     ]
    },
    {
     "data": {
      "text/plain": [
       "None"
      ]
     },
     "metadata": {},
     "output_type": "display_data"
    }
   ],
   "source": [
    "df_info = df.info()\n",
    "display(df_info)"
   ]
  },
  {
   "cell_type": "markdown",
   "metadata": {},
   "source": [
    "Defining and changing categories columns"
   ]
  },
  {
   "cell_type": "code",
   "execution_count": 7,
   "metadata": {},
   "outputs": [
    {
     "data": {
      "text/plain": [
       "type_of_post    9\n",
       "snap_member     2\n",
       "dtype: int64"
      ]
     },
     "metadata": {},
     "output_type": "display_data"
    }
   ],
   "source": [
    "cat_cols = ['type_of_post', 'snap_member']\n",
    "df[cat_cols] = df[cat_cols].astype('category')\n",
    "df_nunique = df[cat_cols].nunique()\n",
    "display(df_nunique)"
   ]
  },
  {
   "cell_type": "markdown",
   "metadata": {},
   "source": [
    "Changing columns with data from object into datetime"
   ]
  },
  {
   "cell_type": "code",
   "execution_count": 8,
   "metadata": {},
   "outputs": [
    {
     "data": {
      "text/html": [
       "<div>\n",
       "<style scoped>\n",
       "    .dataframe tbody tr th:only-of-type {\n",
       "        vertical-align: middle;\n",
       "    }\n",
       "\n",
       "    .dataframe tbody tr th {\n",
       "        vertical-align: top;\n",
       "    }\n",
       "\n",
       "    .dataframe thead th {\n",
       "        text-align: right;\n",
       "    }\n",
       "</style>\n",
       "<table border=\"1\" class=\"dataframe\">\n",
       "  <thead>\n",
       "    <tr style=\"text-align: right;\">\n",
       "      <th></th>\n",
       "      <th>user_name</th>\n",
       "      <th>date</th>\n",
       "      <th>comments_number</th>\n",
       "      <th>votes_number</th>\n",
       "      <th>title_of_post</th>\n",
       "      <th>type_of_post</th>\n",
       "      <th>snap_member</th>\n",
       "      <th>posted_photo</th>\n",
       "      <th>posted_video</th>\n",
       "    </tr>\n",
       "  </thead>\n",
       "  <tbody>\n",
       "    <tr>\n",
       "      <th>0</th>\n",
       "      <td>u/AutoModerator</td>\n",
       "      <td>10 days ago</td>\n",
       "      <td>0 comments</td>\n",
       "      <td>10</td>\n",
       "      <td>Monthly Request Thread - February 2022</td>\n",
       "      <td>REQUEST</td>\n",
       "      <td>None</td>\n",
       "      <td>None</td>\n",
       "      <td>None</td>\n",
       "    </tr>\n",
       "    <tr>\n",
       "      <th>1</th>\n",
       "      <td>u/ApocTheLegend</td>\n",
       "      <td>2 months ago</td>\n",
       "      <td>2 comments</td>\n",
       "      <td>3</td>\n",
       "      <td>Lens Fest Updates Thread! Join Live 12/7 - 12/...</td>\n",
       "      <td>DISCUSSION</td>\n",
       "      <td>Snap Lens Network Member</td>\n",
       "      <td>None</td>\n",
       "      <td>None</td>\n",
       "    </tr>\n",
       "    <tr>\n",
       "      <th>2</th>\n",
       "      <td>u/Dependent-Mood9358</td>\n",
       "      <td>15 hours ago</td>\n",
       "      <td>2 comments</td>\n",
       "      <td>10</td>\n",
       "      <td>New feature disappeared?</td>\n",
       "      <td>None</td>\n",
       "      <td>None</td>\n",
       "      <td>None</td>\n",
       "      <td>None</td>\n",
       "    </tr>\n",
       "    <tr>\n",
       "      <th>3</th>\n",
       "      <td>u/tronixa88</td>\n",
       "      <td>1 day ago</td>\n",
       "      <td>0 comments</td>\n",
       "      <td>1</td>\n",
       "      <td>[help] reverse tween with same interaction tap ?</td>\n",
       "      <td>HELP</td>\n",
       "      <td>None</td>\n",
       "      <td>None</td>\n",
       "      <td>None</td>\n",
       "    </tr>\n",
       "    <tr>\n",
       "      <th>4</th>\n",
       "      <td>u/co-opino</td>\n",
       "      <td>3 days ago</td>\n",
       "      <td>0 comments</td>\n",
       "      <td>20</td>\n",
       "      <td>Please help me identify this lens 😳</td>\n",
       "      <td>REQUEST</td>\n",
       "      <td>None</td>\n",
       "      <td>Post image</td>\n",
       "      <td>None</td>\n",
       "    </tr>\n",
       "  </tbody>\n",
       "</table>\n",
       "</div>"
      ],
      "text/plain": [
       "              user_name          date comments_number  votes_number  \\\n",
       "0       u/AutoModerator   10 days ago      0 comments            10   \n",
       "1       u/ApocTheLegend  2 months ago      2 comments             3   \n",
       "2  u/Dependent-Mood9358  15 hours ago      2 comments            10   \n",
       "3           u/tronixa88     1 day ago      0 comments             1   \n",
       "4            u/co-opino    3 days ago      0 comments            20   \n",
       "\n",
       "                                       title_of_post type_of_post  \\\n",
       "0             Monthly Request Thread - February 2022      REQUEST   \n",
       "1  Lens Fest Updates Thread! Join Live 12/7 - 12/...   DISCUSSION   \n",
       "2                           New feature disappeared?         None   \n",
       "3   [help] reverse tween with same interaction tap ?         HELP   \n",
       "4                Please help me identify this lens 😳      REQUEST   \n",
       "\n",
       "                snap_member posted_photo posted_video  \n",
       "0                      None         None         None  \n",
       "1  Snap Lens Network Member         None         None  \n",
       "2                      None         None         None  \n",
       "3                      None         None         None  \n",
       "4                      None   Post image         None  "
      ]
     },
     "execution_count": 8,
     "metadata": {},
     "output_type": "execute_result"
    }
   ],
   "source": [
    "import datetime\n",
    "today = datetime.datetime.now()\n",
    "numbers = []\n",
    "\n",
    "\n",
    "for i in df['date']:\n",
    "    if 'day' in i:\n",
    "        for word in i.split():\n",
    "            if word.isdigit():\n",
    "                today = datetime.datetime.now() - timedelta(days = int(word))\n",
    "                numbers.append(today)\n",
    "    elif 'hour' in i:\n",
    "        for word in i.split():\n",
    "            if word.isdigit():\n",
    "                today = datetime.datetime.now() - timedelta(hours = int(word))\n",
    "                numbers.append(today)\n",
    "    elif 'month' in i:\n",
    "        for word in i.split():\n",
    "            if word.isdigit():\n",
    "                today = datetime.datetime.now() - timedelta(days = int(word)*31)\n",
    "                numbers.append(today)\n",
    "\n",
    "\n",
    "df.head(5)"
   ]
  },
  {
   "cell_type": "code",
   "execution_count": 9,
   "metadata": {},
   "outputs": [
    {
     "data": {
      "text/html": [
       "<div>\n",
       "<style scoped>\n",
       "    .dataframe tbody tr th:only-of-type {\n",
       "        vertical-align: middle;\n",
       "    }\n",
       "\n",
       "    .dataframe tbody tr th {\n",
       "        vertical-align: top;\n",
       "    }\n",
       "\n",
       "    .dataframe thead th {\n",
       "        text-align: right;\n",
       "    }\n",
       "</style>\n",
       "<table border=\"1\" class=\"dataframe\">\n",
       "  <thead>\n",
       "    <tr style=\"text-align: right;\">\n",
       "      <th></th>\n",
       "      <th>user_name</th>\n",
       "      <th>date</th>\n",
       "      <th>comments_number</th>\n",
       "      <th>votes_number</th>\n",
       "      <th>title_of_post</th>\n",
       "      <th>type_of_post</th>\n",
       "      <th>snap_member</th>\n",
       "      <th>posted_photo</th>\n",
       "      <th>posted_video</th>\n",
       "    </tr>\n",
       "  </thead>\n",
       "  <tbody>\n",
       "    <tr>\n",
       "      <th>0</th>\n",
       "      <td>u/AutoModerator</td>\n",
       "      <td>March/2022</td>\n",
       "      <td>0 comments</td>\n",
       "      <td>10</td>\n",
       "      <td>Monthly Request Thread - February 2022</td>\n",
       "      <td>REQUEST</td>\n",
       "      <td>None</td>\n",
       "      <td>None</td>\n",
       "      <td>None</td>\n",
       "    </tr>\n",
       "    <tr>\n",
       "      <th>1</th>\n",
       "      <td>u/ApocTheLegend</td>\n",
       "      <td>January/2022</td>\n",
       "      <td>2 comments</td>\n",
       "      <td>3</td>\n",
       "      <td>Lens Fest Updates Thread! Join Live 12/7 - 12/...</td>\n",
       "      <td>DISCUSSION</td>\n",
       "      <td>Snap Lens Network Member</td>\n",
       "      <td>None</td>\n",
       "      <td>None</td>\n",
       "    </tr>\n",
       "    <tr>\n",
       "      <th>2</th>\n",
       "      <td>u/Dependent-Mood9358</td>\n",
       "      <td>March/2022</td>\n",
       "      <td>2 comments</td>\n",
       "      <td>10</td>\n",
       "      <td>New feature disappeared?</td>\n",
       "      <td>None</td>\n",
       "      <td>None</td>\n",
       "      <td>None</td>\n",
       "      <td>None</td>\n",
       "    </tr>\n",
       "    <tr>\n",
       "      <th>3</th>\n",
       "      <td>u/tronixa88</td>\n",
       "      <td>March/2022</td>\n",
       "      <td>0 comments</td>\n",
       "      <td>1</td>\n",
       "      <td>[help] reverse tween with same interaction tap ?</td>\n",
       "      <td>HELP</td>\n",
       "      <td>None</td>\n",
       "      <td>None</td>\n",
       "      <td>None</td>\n",
       "    </tr>\n",
       "    <tr>\n",
       "      <th>4</th>\n",
       "      <td>u/co-opino</td>\n",
       "      <td>March/2022</td>\n",
       "      <td>0 comments</td>\n",
       "      <td>20</td>\n",
       "      <td>Please help me identify this lens 😳</td>\n",
       "      <td>REQUEST</td>\n",
       "      <td>None</td>\n",
       "      <td>Post image</td>\n",
       "      <td>None</td>\n",
       "    </tr>\n",
       "  </tbody>\n",
       "</table>\n",
       "</div>"
      ],
      "text/plain": [
       "              user_name          date comments_number  votes_number  \\\n",
       "0       u/AutoModerator    March/2022      0 comments            10   \n",
       "1       u/ApocTheLegend  January/2022      2 comments             3   \n",
       "2  u/Dependent-Mood9358    March/2022      2 comments            10   \n",
       "3           u/tronixa88    March/2022      0 comments             1   \n",
       "4            u/co-opino    March/2022      0 comments            20   \n",
       "\n",
       "                                       title_of_post type_of_post  \\\n",
       "0             Monthly Request Thread - February 2022      REQUEST   \n",
       "1  Lens Fest Updates Thread! Join Live 12/7 - 12/...   DISCUSSION   \n",
       "2                           New feature disappeared?         None   \n",
       "3   [help] reverse tween with same interaction tap ?         HELP   \n",
       "4                Please help me identify this lens 😳      REQUEST   \n",
       "\n",
       "                snap_member posted_photo posted_video  \n",
       "0                      None         None         None  \n",
       "1  Snap Lens Network Member         None         None  \n",
       "2                      None         None         None  \n",
       "3                      None         None         None  \n",
       "4                      None   Post image         None  "
      ]
     },
     "metadata": {},
     "output_type": "display_data"
    }
   ],
   "source": [
    "df['date'] = numbers\n",
    "df['date'] = pd.to_datetime(df['date'])\n",
    "df['date'] = df['date'].dt.strftime('%B/%Y')\n",
    "display(df.head(5))"
   ]
  },
  {
   "cell_type": "markdown",
   "metadata": {},
   "source": [
    "Extract numbers of comments from string and change format into int"
   ]
  },
  {
   "cell_type": "code",
   "execution_count": 10,
   "metadata": {},
   "outputs": [],
   "source": [
    "comments_num = list()\n",
    "for string in df['comments_number']:\n",
    "    for word in string.split():\n",
    "        if word.isdigit():\n",
    "            comments_num.append(int(word))\n",
    "df['comments_number'] = comments_num      "
   ]
  },
  {
   "cell_type": "markdown",
   "metadata": {},
   "source": [
    "Overview of unique values of columns - type of post and count avarege quantity of each value"
   ]
  },
  {
   "cell_type": "code",
   "execution_count": 11,
   "metadata": {},
   "outputs": [
    {
     "data": {
      "text/plain": [
       "type_of_post\n",
       "DISCUSSION           32\n",
       "HELP                 52\n",
       "LENS IN USE          29\n",
       "NEW LENS            232\n",
       "OTHER               230\n",
       "REQUEST              34\n",
       "REQUEST - SOLVED      2\n",
       "Software              1\n",
       "TUTORIAL              6\n",
       "Name: date, dtype: int64"
      ]
     },
     "execution_count": 11,
     "metadata": {},
     "output_type": "execute_result"
    }
   ],
   "source": [
    "df['type_of_post'].unique()\n",
    "df['type_of_post'].replace('None', 'OTHER', inplace = True)\n",
    "df.groupby('type_of_post')['date'].count()"
   ]
  },
  {
   "cell_type": "markdown",
   "metadata": {},
   "source": [
    "Overview of unique values of columns - snap member and count avarege quantity of each value"
   ]
  },
  {
   "cell_type": "code",
   "execution_count": 12,
   "metadata": {},
   "outputs": [
    {
     "data": {
      "text/plain": [
       "snap_member\n",
       "Not member                  601\n",
       "Snap Lens Network Member     17\n",
       "Name: date, dtype: int64"
      ]
     },
     "execution_count": 12,
     "metadata": {},
     "output_type": "execute_result"
    }
   ],
   "source": [
    "df['snap_member'].replace('None', 'Not member', inplace = True)\n",
    "df.groupby('snap_member')['date'].count()"
   ]
  },
  {
   "cell_type": "code",
   "execution_count": 13,
   "metadata": {},
   "outputs": [
    {
     "data": {
      "text/plain": [
       "array(['u/ApocTheLegend', 'u/thedrawing_board', 'u/Bennyp3333',\n",
       "       'u/deejoyt', 'u/mypinkyhurts', 'u/Padajno', 'u/lukalangabriel',\n",
       "       'u/Max_van_Leeuwen'], dtype=object)"
      ]
     },
     "execution_count": 13,
     "metadata": {},
     "output_type": "execute_result"
    }
   ],
   "source": [
    "df.loc[df['snap_member'] == 'Snap Lens Network Member', 'user_name'].unique()"
   ]
  },
  {
   "cell_type": "markdown",
   "metadata": {},
   "source": [
    "Overview of unique values of columns - posted photo and count avarege quantity of each value"
   ]
  },
  {
   "cell_type": "code",
   "execution_count": 14,
   "metadata": {},
   "outputs": [],
   "source": [
    "df['posted_photo'].replace('None', np.nan, inplace = True)\n",
    "df['posted_video'].replace('None', np.nan, inplace = True)\n",
    "df['posted_photo'] = df['posted_photo'].combine_first(df['posted_video'])\n",
    "df.drop(['posted_video'], axis = 1, inplace = True)\n",
    "df['posted_photo'].replace(\n",
    "    ['Post image', np.nan, 'auto'], ['IMAGE', 'TEXT', 'VIDEO'], inplace = True\n",
    ")\n",
    "df.rename(columns = {'posted_photo':'type_of_content'}, inplace = True)\n",
    "df['type_of_content'] = df['type_of_content'].astype('category')"
   ]
  },
  {
   "cell_type": "code",
   "execution_count": 15,
   "metadata": {},
   "outputs": [
    {
     "data": {
      "text/plain": [
       "type_of_content\n",
       "IMAGE     53\n",
       "TEXT     368\n",
       "VIDEO    197\n",
       "Name: date, dtype: int64"
      ]
     },
     "execution_count": 15,
     "metadata": {},
     "output_type": "execute_result"
    }
   ],
   "source": [
    "df.groupby('type_of_content')['date'].count()"
   ]
  },
  {
   "cell_type": "markdown",
   "metadata": {},
   "source": [
    "Defining popular users"
   ]
  },
  {
   "cell_type": "code",
   "execution_count": 16,
   "metadata": {},
   "outputs": [
    {
     "data": {
      "text/plain": [
       "user_name\n",
       "u/itech2030               63\n",
       "u/3dnano7_                48\n",
       "u/Ayman878                40\n",
       "u/Sudi9                   23\n",
       "u/moonsugar999            14\n",
       "u/Hamagardyy              13\n",
       "u/see3li                  11\n",
       "u/SpatialComputing        11\n",
       "u/Jorikrosa               10\n",
       "u/Irina_Mryan             10\n",
       "u/AutoModerator           10\n",
       "u/hnry_myr                 9\n",
       "u/Embarrassed-South-23     9\n",
       "u/ANSKF                    8\n",
       "u/NihaalAli                6\n",
       "u/PoorGlitch               6\n",
       "u/Bennyp3333               6\n",
       "u/Practical_Age_3169       6\n",
       "u/dotankoren               5\n",
       "u/xozi_yak                 5\n",
       "Name: date, dtype: int64"
      ]
     },
     "execution_count": 16,
     "metadata": {},
     "output_type": "execute_result"
    }
   ],
   "source": [
    "df.groupby('user_name')['date'].count().sort_values(ascending = False).head(20)"
   ]
  },
  {
   "cell_type": "markdown",
   "metadata": {},
   "source": [
    "Data Visualization"
   ]
  },
  {
   "cell_type": "code",
   "execution_count": 17,
   "metadata": {},
   "outputs": [
    {
     "data": {
      "text/plain": [
       "<seaborn.axisgrid.FacetGrid at 0x7f8d0885cc70>"
      ]
     },
     "execution_count": 17,
     "metadata": {},
     "output_type": "execute_result"
    },
    {
     "data": {
      "image/png": "[encoded data removed]",
      "text/plain": [
       "<Figure size 576x576 with 1 Axes>"
      ]
     },
     "metadata": {
      "needs_background": "light"
     },
     "output_type": "display_data"
    }
   ],
   "source": [
    "g = sns.catplot(\n",
    "    data=df, kind=\"count\", \n",
    "    x=\"date\", palette=\"mako\", \n",
    "    alpha=.8, height = 8\n",
    ")\n",
    "g.set_axis_labels(\"Total number of posts\", \"Month\")\n",
    "g.set_xticklabels(rotation=90)"
   ]
  },
  {
   "cell_type": "code",
   "execution_count": 18,
   "metadata": {},
   "outputs": [],
   "source": [
    "df_plots = df.pivot_table(df, index = 'date', aggfunc = 'sum').reset_index()"
   ]
  },
  {
   "cell_type": "code",
   "execution_count": 19,
   "metadata": {},
   "outputs": [
    {
     "data": {
      "text/plain": [
       "<seaborn.axisgrid.FacetGrid at 0x7f8d08869430>"
      ]
     },
     "execution_count": 19,
     "metadata": {},
     "output_type": "execute_result"
    },
    {
     "data": {
      "image/png": "[encoded data removed]",
      "text/plain": [
       "<Figure size 576x576 with 1 Axes>"
      ]
     },
     "metadata": {
      "needs_background": "light"
     },
     "output_type": "display_data"
    }
   ],
   "source": [
    "g = sns.catplot(\n",
    "    data=df, kind=\"count\", \n",
    "    y=\"type_of_post\", palette=\"mako\", \n",
    "    alpha=.8, height = 8\n",
    ")\n",
    "g.set_axis_labels(\"Number of posts\", \"Types of posts\")\n",
    "g.set_xticklabels(rotation=90)"
   ]
  },
  {
   "cell_type": "code",
   "execution_count": 20,
   "metadata": {},
   "outputs": [
    {
     "data": {
      "text/plain": [
       "<seaborn.axisgrid.FacetGrid at 0x7f8d08e00850>"
      ]
     },
     "execution_count": 20,
     "metadata": {},
     "output_type": "execute_result"
    },
    {
     "data": {
      "image/png": "[encoded data removed]",
      "text/plain": [
       "<Figure size 576x576 with 1 Axes>"
      ]
     },
     "metadata": {
      "needs_background": "light"
     },
     "output_type": "display_data"
    }
   ],
   "source": [
    "df_plots1 = df.pivot_table(df, index = 'type_of_post', aggfunc = 'sum').reset_index()\n",
    "g = sns.catplot(\n",
    "    data=df_plots1, kind=\"bar\", \n",
    "    y=\"type_of_post\", x = 'comments_number', palette=\"coolwarm\", \n",
    "    alpha=.8, height = 8\n",
    ")\n",
    "g.set_axis_labels(\"Number of posts\", \"Types of posts\")\n",
    "g.set_xticklabels(rotation=90)"
   ]
  },
  {
   "cell_type": "code",
   "execution_count": 21,
   "metadata": {},
   "outputs": [
    {
     "data": {
      "text/plain": [
       "<seaborn.axisgrid.FacetGrid at 0x7f8d08fe0370>"
      ]
     },
     "execution_count": 21,
     "metadata": {},
     "output_type": "execute_result"
    },
    {
     "data": {
      "image/png": "[encoded data removed]",
      "text/plain": [
       "<Figure size 576x576 with 1 Axes>"
      ]
     },
     "metadata": {
      "needs_background": "light"
     },
     "output_type": "display_data"
    }
   ],
   "source": [
    "g = sns.catplot(\n",
    "    data=df, kind=\"count\", \n",
    "    x=\"type_of_content\", palette=\"mako\", \n",
    "    alpha=.8, height = 8\n",
    ")\n",
    "g.set_axis_labels(\"Type of content\", \"Tital number\")"
   ]
  },
  {
   "cell_type": "code",
   "execution_count": 22,
   "metadata": {},
   "outputs": [
    {
     "data": {
      "text/plain": [
       "<AxesSubplot:xlabel='votes_number', ylabel='type_of_content'>"
      ]
     },
     "execution_count": 22,
     "metadata": {},
     "output_type": "execute_result"
    },
    {
     "data": {
      "image/png": "[encoded data removed]",
      "text/plain": [
       "<Figure size 720x1080 with 2 Axes>"
      ]
     },
     "metadata": {
      "needs_background": "light"
     },
     "output_type": "display_data"
    }
   ],
   "source": [
    "df_plots2 = df.pivot_table(df, index = ['type_of_content'], aggfunc = 'sum').reset_index()\n",
    "fig, axes = plt.subplots(1, 2, figsize = (10, 15), sharey = True)\n",
    "sns.set_style('darkgrid')\n",
    "\n",
    "sns.barplot(data=df_plots2, x=\"comments_number\", \n",
    "            y = 'type_of_content',\n",
    "            palette=\"coolwarm\", alpha=1, ax = axes[0])\n",
    "\n",
    "\n",
    "sns.barplot(data=df_plots2, x=\"votes_number\", \n",
    "            y = 'type_of_content',\n",
    "            palette=\"coolwarm\", alpha=1, ax = axes[1])"
   ]
  }
 ],
 "metadata": {
  "kernelspec": {
   "display_name": "Python 3",
   "language": "python",
   "name": "python3"
  },
  "language_info": {
   "codemirror_mode": {
    "name": "ipython",
    "version": 3
   },
   "file_extension": ".py",
   "mimetype": "text/x-python",
   "name": "python",
   "nbconvert_exporter": "python",
   "pygments_lexer": "ipython3",
   "version": "3.8.5"
  }
 },
 "nbformat": 4,
 "nbformat_minor": 4
}
