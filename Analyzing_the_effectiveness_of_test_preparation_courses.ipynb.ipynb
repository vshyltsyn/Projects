{
 "cells": [
  {
   "cell_type": "markdown",
   "id": "14f59546-26df-4abf-adbe-9f76ac6c01c6",
   "metadata": {
    "tags": []
   },
   "source": [
    "Analyzing the effectiveness of test preparation courses"
   ]
  },
  {
   "cell_type": "code",
   "execution_count": 285,
   "id": "e4c269c3-9736-4e37-88a4-5a02bbf788ca",
   "metadata": {},
   "outputs": [],
   "source": [
    "# Importing libraries\n",
    "import pandas as pd\n",
    "import matplotlib.pyplot as plt\n",
    "import seaborn as sns"
   ]
  },
  {
   "cell_type": "code",
   "execution_count": 286,
   "id": "8e4c0e0a-f95a-4140-8190-fc145fb29fd1",
   "metadata": {},
   "outputs": [
    {
     "data": {
      "application/com.datacamp.data-table.v1+json": {
       "is_truncated": false,
       "table": {
        "data": [
         {
          "gender": "female",
          "index": 0,
          "lunch": "standard",
          "math": 72,
          "parent_education_level": "bachelor's degree",
          "race/ethnicity": "group B",
          "reading": 72,
          "test_prep_course": "none",
          "writing": 74
         },
         {
          "gender": "female",
          "index": 1,
          "lunch": "standard",
          "math": 69,
          "parent_education_level": "some college",
          "race/ethnicity": "group C",
          "reading": 90,
          "test_prep_course": "completed",
          "writing": 88
         },
         {
          "gender": "female",
          "index": 2,
          "lunch": "standard",
          "math": 90,
          "parent_education_level": "master's degree",
          "race/ethnicity": "group B",
          "reading": 95,
          "test_prep_course": "none",
          "writing": 93
         },
         {
          "gender": "male",
          "index": 3,
          "lunch": "free/reduced",
          "math": 47,
          "parent_education_level": "associate's degree",
          "race/ethnicity": "group A",
          "reading": 57,
          "test_prep_course": "none",
          "writing": 44
         },
         {
          "gender": "male",
          "index": 4,
          "lunch": "standard",
          "math": 76,
          "parent_education_level": "some college",
          "race/ethnicity": "group C",
          "reading": 78,
          "test_prep_course": "none",
          "writing": 75
         }
        ],
        "schema": {
         "fields": [
          {
           "name": "index",
           "type": "integer"
          },
          {
           "name": "gender",
           "type": "string"
          },
          {
           "name": "race/ethnicity",
           "type": "string"
          },
          {
           "name": "parent_education_level",
           "type": "string"
          },
          {
           "name": "lunch",
           "type": "string"
          },
          {
           "name": "test_prep_course",
           "type": "string"
          },
          {
           "name": "math",
           "type": "integer"
          },
          {
           "name": "reading",
           "type": "integer"
          },
          {
           "name": "writing",
           "type": "integer"
          }
         ],
         "pandas_version": "0.20.0",
         "primaryKey": [
          "index"
         ]
        }
       },
       "total_rows": 5
      },
      "text/html": [
       "<div>\n",
       "<style scoped>\n",
       "    .dataframe tbody tr th:only-of-type {\n",
       "        vertical-align: middle;\n",
       "    }\n",
       "\n",
       "    .dataframe tbody tr th {\n",
       "        vertical-align: top;\n",
       "    }\n",
       "\n",
       "    .dataframe thead th {\n",
       "        text-align: right;\n",
       "    }\n",
       "</style>\n",
       "<table border=\"1\" class=\"dataframe\">\n",
       "  <thead>\n",
       "    <tr style=\"text-align: right;\">\n",
       "      <th></th>\n",
       "      <th>gender</th>\n",
       "      <th>race/ethnicity</th>\n",
       "      <th>parent_education_level</th>\n",
       "      <th>lunch</th>\n",
       "      <th>test_prep_course</th>\n",
       "      <th>math</th>\n",
       "      <th>reading</th>\n",
       "      <th>writing</th>\n",
       "    </tr>\n",
       "  </thead>\n",
       "  <tbody>\n",
       "    <tr>\n",
       "      <th>0</th>\n",
       "      <td>female</td>\n",
       "      <td>group B</td>\n",
       "      <td>bachelor's degree</td>\n",
       "      <td>standard</td>\n",
       "      <td>none</td>\n",
       "      <td>72</td>\n",
       "      <td>72</td>\n",
       "      <td>74</td>\n",
       "    </tr>\n",
       "    <tr>\n",
       "      <th>1</th>\n",
       "      <td>female</td>\n",
       "      <td>group C</td>\n",
       "      <td>some college</td>\n",
       "      <td>standard</td>\n",
       "      <td>completed</td>\n",
       "      <td>69</td>\n",
       "      <td>90</td>\n",
       "      <td>88</td>\n",
       "    </tr>\n",
       "    <tr>\n",
       "      <th>2</th>\n",
       "      <td>female</td>\n",
       "      <td>group B</td>\n",
       "      <td>master's degree</td>\n",
       "      <td>standard</td>\n",
       "      <td>none</td>\n",
       "      <td>90</td>\n",
       "      <td>95</td>\n",
       "      <td>93</td>\n",
       "    </tr>\n",
       "    <tr>\n",
       "      <th>3</th>\n",
       "      <td>male</td>\n",
       "      <td>group A</td>\n",
       "      <td>associate's degree</td>\n",
       "      <td>free/reduced</td>\n",
       "      <td>none</td>\n",
       "      <td>47</td>\n",
       "      <td>57</td>\n",
       "      <td>44</td>\n",
       "    </tr>\n",
       "    <tr>\n",
       "      <th>4</th>\n",
       "      <td>male</td>\n",
       "      <td>group C</td>\n",
       "      <td>some college</td>\n",
       "      <td>standard</td>\n",
       "      <td>none</td>\n",
       "      <td>76</td>\n",
       "      <td>78</td>\n",
       "      <td>75</td>\n",
       "    </tr>\n",
       "  </tbody>\n",
       "</table>\n",
       "</div>"
      ],
      "text/plain": [
       "   gender race/ethnicity parent_education_level         lunch  \\\n",
       "0  female        group B      bachelor's degree      standard   \n",
       "1  female        group C           some college      standard   \n",
       "2  female        group B        master's degree      standard   \n",
       "3    male        group A     associate's degree  free/reduced   \n",
       "4    male        group C           some college      standard   \n",
       "\n",
       "  test_prep_course  math  reading  writing  \n",
       "0             none    72       72       74  \n",
       "1        completed    69       90       88  \n",
       "2             none    90       95       93  \n",
       "3             none    47       57       44  \n",
       "4             none    76       78       75  "
      ]
     },
     "metadata": {},
     "output_type": "display_data"
    }
   ],
   "source": [
    "# Loading of dataset\n",
    "df = pd.read_csv('data/exams.csv')\n",
    "\n",
    "#First five rows of dataset\n",
    "display(df.head(5))"
   ]
  },
  {
   "cell_type": "code",
   "execution_count": 287,
   "id": "e4539330-124b-4c16-b752-b92deb333bef",
   "metadata": {},
   "outputs": [
    {
     "name": "stdout",
     "output_type": "stream",
     "text": [
      "<class 'pandas.core.frame.DataFrame'>\n",
      "RangeIndex: 1000 entries, 0 to 999\n",
      "Data columns (total 8 columns):\n",
      " #   Column                  Non-Null Count  Dtype \n",
      "---  ------                  --------------  ----- \n",
      " 0   gender                  1000 non-null   object\n",
      " 1   race/ethnicity          1000 non-null   object\n",
      " 2   parent_education_level  1000 non-null   object\n",
      " 3   lunch                   1000 non-null   object\n",
      " 4   test_prep_course        1000 non-null   object\n",
      " 5   math                    1000 non-null   int64 \n",
      " 6   reading                 1000 non-null   int64 \n",
      " 7   writing                 1000 non-null   int64 \n",
      "dtypes: int64(3), object(5)\n",
      "memory usage: 62.6+ KB\n",
      "None\n"
     ]
    }
   ],
   "source": [
    "# General information about dataset\n",
    "print(df.info())"
   ]
  },
  {
   "cell_type": "code",
   "execution_count": 288,
   "id": "b4e7cc2d-e80e-4302-ab6d-a0d9ad7f298f",
   "metadata": {},
   "outputs": [
    {
     "name": "stdout",
     "output_type": "stream",
     "text": [
      "gender                     2\n",
      "race/ethnicity             5\n",
      "parent_education_level     6\n",
      "lunch                      2\n",
      "test_prep_course           2\n",
      "math                      81\n",
      "reading                   72\n",
      "writing                   77\n",
      "dtype: int64\n"
     ]
    }
   ],
   "source": [
    "# Defining quantity of unique values in each column\n",
    "print(df.nunique())"
   ]
  },
  {
   "cell_type": "code",
   "execution_count": 289,
   "id": "15587fe0-179c-404b-aff9-ab3237091e2f",
   "metadata": {},
   "outputs": [
    {
     "data": {
      "application/com.datacamp.data-table.v1+json": {
       "is_truncated": false,
       "table": {
        "data": [
         {
          "index": "count",
          "math": 1000,
          "reading": 1000,
          "writing": 1000
         },
         {
          "index": "mean",
          "math": 66.089,
          "reading": 69.169,
          "writing": 68.054
         },
         {
          "index": "std",
          "math": 15.163080096,
          "reading": 14.6001919373,
          "writing": 15.1956570109
         },
         {
          "index": "min",
          "math": 0,
          "reading": 17,
          "writing": 10
         },
         {
          "index": "25%",
          "math": 57,
          "reading": 59,
          "writing": 57.75
         },
         {
          "index": "50%",
          "math": 66,
          "reading": 70,
          "writing": 69
         },
         {
          "index": "75%",
          "math": 77,
          "reading": 79,
          "writing": 79
         },
         {
          "index": "max",
          "math": 100,
          "reading": 100,
          "writing": 100
         }
        ],
        "schema": {
         "fields": [
          {
           "name": "index",
           "type": "string"
          },
          {
           "name": "math",
           "type": "number"
          },
          {
           "name": "reading",
           "type": "number"
          },
          {
           "name": "writing",
           "type": "number"
          }
         ],
         "pandas_version": "0.20.0",
         "primaryKey": [
          "index"
         ]
        }
       },
       "total_rows": 8
      },
      "text/html": [
       "<div>\n",
       "<style scoped>\n",
       "    .dataframe tbody tr th:only-of-type {\n",
       "        vertical-align: middle;\n",
       "    }\n",
       "\n",
       "    .dataframe tbody tr th {\n",
       "        vertical-align: top;\n",
       "    }\n",
       "\n",
       "    .dataframe thead th {\n",
       "        text-align: right;\n",
       "    }\n",
       "</style>\n",
       "<table border=\"1\" class=\"dataframe\">\n",
       "  <thead>\n",
       "    <tr style=\"text-align: right;\">\n",
       "      <th></th>\n",
       "      <th>math</th>\n",
       "      <th>reading</th>\n",
       "      <th>writing</th>\n",
       "    </tr>\n",
       "  </thead>\n",
       "  <tbody>\n",
       "    <tr>\n",
       "      <th>count</th>\n",
       "      <td>1000.00000</td>\n",
       "      <td>1000.000000</td>\n",
       "      <td>1000.000000</td>\n",
       "    </tr>\n",
       "    <tr>\n",
       "      <th>mean</th>\n",
       "      <td>66.08900</td>\n",
       "      <td>69.169000</td>\n",
       "      <td>68.054000</td>\n",
       "    </tr>\n",
       "    <tr>\n",
       "      <th>std</th>\n",
       "      <td>15.16308</td>\n",
       "      <td>14.600192</td>\n",
       "      <td>15.195657</td>\n",
       "    </tr>\n",
       "    <tr>\n",
       "      <th>min</th>\n",
       "      <td>0.00000</td>\n",
       "      <td>17.000000</td>\n",
       "      <td>10.000000</td>\n",
       "    </tr>\n",
       "    <tr>\n",
       "      <th>25%</th>\n",
       "      <td>57.00000</td>\n",
       "      <td>59.000000</td>\n",
       "      <td>57.750000</td>\n",
       "    </tr>\n",
       "    <tr>\n",
       "      <th>50%</th>\n",
       "      <td>66.00000</td>\n",
       "      <td>70.000000</td>\n",
       "      <td>69.000000</td>\n",
       "    </tr>\n",
       "    <tr>\n",
       "      <th>75%</th>\n",
       "      <td>77.00000</td>\n",
       "      <td>79.000000</td>\n",
       "      <td>79.000000</td>\n",
       "    </tr>\n",
       "    <tr>\n",
       "      <th>max</th>\n",
       "      <td>100.00000</td>\n",
       "      <td>100.000000</td>\n",
       "      <td>100.000000</td>\n",
       "    </tr>\n",
       "  </tbody>\n",
       "</table>\n",
       "</div>"
      ],
      "text/plain": [
       "             math      reading      writing\n",
       "count  1000.00000  1000.000000  1000.000000\n",
       "mean     66.08900    69.169000    68.054000\n",
       "std      15.16308    14.600192    15.195657\n",
       "min       0.00000    17.000000    10.000000\n",
       "25%      57.00000    59.000000    57.750000\n",
       "50%      66.00000    70.000000    69.000000\n",
       "75%      77.00000    79.000000    79.000000\n",
       "max     100.00000   100.000000   100.000000"
      ]
     },
     "execution_count": 289,
     "metadata": {},
     "output_type": "execute_result"
    }
   ],
   "source": [
    "# Statistical information\n",
    "df[['math', 'reading', 'writing']].describe()"
   ]
  },
  {
   "cell_type": "code",
   "execution_count": 290,
   "id": "0d6ae8f6-7fca-46b0-b2d5-4a4a9af67c33",
   "metadata": {},
   "outputs": [
    {
     "data": {
      "text/plain": [
       "<AxesSubplot:xlabel='writing'>"
      ]
     },
     "execution_count": 290,
     "metadata": {},
     "output_type": "execute_result"
    },
    {
     "data": {
      "image/png": "[encoded data removed]",
      "text/plain": [
       "<Figure size 720x1440 with 3 Axes>"
      ]
     },
     "metadata": {},
     "output_type": "display_data"
    }
   ],
   "source": [
    "# Visualization of statistical information\n",
    "fig, axes = plt.subplots(3, 1, figsize = (10, 20), sharey = True)\n",
    "sns.set_style('darkgrid')\n",
    "sns.boxplot(x = 'math', data = df, ax = axes[0], palette = 'flare')\n",
    "sns.boxplot(x = 'reading', data = df, ax = axes[1], palette = 'flare')\n",
    "sns.boxplot(x = 'writing', data = df, ax = axes[2], palette = 'flare')"
   ]
  },
  {
   "cell_type": "code",
   "execution_count": 291,
   "id": "5fa26721-547f-4dff-889c-534ebde15273",
   "metadata": {},
   "outputs": [
    {
     "data": {
      "text/plain": [
       "<AxesSubplot:>"
      ]
     },
     "execution_count": 291,
     "metadata": {},
     "output_type": "execute_result"
    },
    {
     "data": {
      "image/png": "[encoded data removed]",
      "text/plain": [
       "<Figure size 432x288 with 2 Axes>"
      ]
     },
     "metadata": {},
     "output_type": "display_data"
    }
   ],
   "source": [
    "# Defining correlation between columns\n",
    "df_corr = df[['math', 'reading', 'writing']].corr()\n",
    "sns.heatmap(data = df_corr, annot = True)"
   ]
  },
  {
   "cell_type": "code",
   "execution_count": 292,
   "id": "ef4419d9-7f5a-4887-a996-10c714f5e704",
   "metadata": {},
   "outputs": [
    {
     "data": {
      "text/plain": [
       "<AxesSubplot:xlabel='test_prep_course', ylabel='count'>"
      ]
     },
     "execution_count": 292,
     "metadata": {},
     "output_type": "execute_result"
    },
    {
     "data": {
      "image/png": "[encoded data removed]",
      "text/plain": [
       "<Figure size 720x1080 with 5 Axes>"
      ]
     },
     "metadata": {},
     "output_type": "display_data"
    }
   ],
   "source": [
    "# Visualization of counting plots for each object column\n",
    "fig, axes = plt.subplots(5, 1, figsize = (10, 15))\n",
    "sns.countplot(x = 'gender', data = df, ax = axes[0], palette = 'flare')\n",
    "sns.countplot(x = 'race/ethnicity', data = df, ax = axes[1], palette = 'flare') \n",
    "sns.countplot(x = 'parent_education_level', data = df, ax = axes[2], palette = 'flare')\n",
    "sns.countplot(x = 'lunch', data = df, ax = axes[3], palette = 'flare')\n",
    "sns.countplot(x = 'test_prep_course', data = df, ax = axes[4], palette = 'flare')"
   ]
  },
  {
   "cell_type": "code",
   "execution_count": 293,
   "id": "eb6d01fc-27fe-4ca4-a59e-2627acfef442",
   "metadata": {},
   "outputs": [],
   "source": [
    "# Creating new column 'Avarage score'\n",
    "df['Avarage score'] = (df['math'] + df['reading'] + df['writing'])/3"
   ]
  },
  {
   "cell_type": "code",
   "execution_count": 294,
   "id": "fc67bb68-36f0-4fce-9352-6b49e3e3b937",
   "metadata": {},
   "outputs": [
    {
     "data": {
      "application/com.datacamp.data-table.v1+json": {
       "is_truncated": false,
       "table": {
        "data": [
         {
          "gender": "female",
          "math": 63.6332046332,
          "reading": 72.6081081081,
          "writing": 72.4671814672
         },
         {
          "gender": "male",
          "math": 68.7282157676,
          "reading": 65.4730290456,
          "writing": 63.3112033195
         }
        ],
        "schema": {
         "fields": [
          {
           "name": "gender",
           "type": "string"
          },
          {
           "name": "math",
           "type": "number"
          },
          {
           "name": "reading",
           "type": "number"
          },
          {
           "name": "writing",
           "type": "number"
          }
         ],
         "pandas_version": "0.20.0",
         "primaryKey": [
          "gender"
         ]
        }
       },
       "total_rows": 2
      },
      "text/html": [
       "<div>\n",
       "<style scoped>\n",
       "    .dataframe tbody tr th:only-of-type {\n",
       "        vertical-align: middle;\n",
       "    }\n",
       "\n",
       "    .dataframe tbody tr th {\n",
       "        vertical-align: top;\n",
       "    }\n",
       "\n",
       "    .dataframe thead th {\n",
       "        text-align: right;\n",
       "    }\n",
       "</style>\n",
       "<table border=\"1\" class=\"dataframe\">\n",
       "  <thead>\n",
       "    <tr style=\"text-align: right;\">\n",
       "      <th></th>\n",
       "      <th>math</th>\n",
       "      <th>reading</th>\n",
       "      <th>writing</th>\n",
       "    </tr>\n",
       "    <tr>\n",
       "      <th>gender</th>\n",
       "      <th></th>\n",
       "      <th></th>\n",
       "      <th></th>\n",
       "    </tr>\n",
       "  </thead>\n",
       "  <tbody>\n",
       "    <tr>\n",
       "      <th>female</th>\n",
       "      <td>63.633205</td>\n",
       "      <td>72.608108</td>\n",
       "      <td>72.467181</td>\n",
       "    </tr>\n",
       "    <tr>\n",
       "      <th>male</th>\n",
       "      <td>68.728216</td>\n",
       "      <td>65.473029</td>\n",
       "      <td>63.311203</td>\n",
       "    </tr>\n",
       "  </tbody>\n",
       "</table>\n",
       "</div>"
      ],
      "text/plain": [
       "             math    reading    writing\n",
       "gender                                 \n",
       "female  63.633205  72.608108  72.467181\n",
       "male    68.728216  65.473029  63.311203"
      ]
     },
     "execution_count": 294,
     "metadata": {},
     "output_type": "execute_result"
    }
   ],
   "source": [
    "# Defining how gender impact on math, reading, writing\n",
    "df.groupby('gender')[['math', 'reading', 'writing']].mean()"
   ]
  },
  {
   "cell_type": "code",
   "execution_count": 295,
   "id": "1a63ba00-9322-4b1b-82b8-9d3b7a212a82",
   "metadata": {},
   "outputs": [
    {
     "data": {
      "text/plain": [
       "<AxesSubplot:xlabel='gender', ylabel='Avarage score'>"
      ]
     },
     "execution_count": 295,
     "metadata": {},
     "output_type": "execute_result"
    },
    {
     "data": {
      "image/png": "[encoded data removed]",
      "text/plain": [
       "<Figure size 720x576 with 1 Axes>"
      ]
     },
     "metadata": {},
     "output_type": "display_data"
    }
   ],
   "source": [
    "# Visualization how gender impact on the avarage score\n",
    "df_gender = df.groupby('gender')[['math', 'reading', 'writing', 'Avarage score']].mean()\n",
    "df_gender.reset_index(inplace = True)\n",
    "plt.figure(figsize=(10, 8))\n",
    "sns.barplot(x = 'gender', y = 'Avarage score', data = df_gender, palette = 'flare')"
   ]
  },
  {
   "cell_type": "code",
   "execution_count": 296,
   "id": "b6b21485-a185-48d7-b24a-b2e531004749",
   "metadata": {},
   "outputs": [
    {
     "data": {
      "application/com.datacamp.data-table.v1+json": {
       "is_truncated": false,
       "table": {
        "data": [
         {
          "math": 61.6292134831,
          "race/ethnicity": "group A",
          "reading": 64.6741573034,
          "writing": 62.6741573034
         },
         {
          "math": 63.4526315789,
          "race/ethnicity": "group B",
          "reading": 67.3526315789,
          "writing": 65.6
         },
         {
          "math": 64.4639498433,
          "race/ethnicity": "group C",
          "reading": 69.1034482759,
          "writing": 67.8275862069
         },
         {
          "math": 67.3625954198,
          "race/ethnicity": "group D",
          "reading": 70.0305343511,
          "writing": 70.1450381679
         },
         {
          "math": 73.8214285714,
          "race/ethnicity": "group E",
          "reading": 73.0285714286,
          "writing": 71.4071428571
         }
        ],
        "schema": {
         "fields": [
          {
           "name": "race/ethnicity",
           "type": "string"
          },
          {
           "name": "math",
           "type": "number"
          },
          {
           "name": "reading",
           "type": "number"
          },
          {
           "name": "writing",
           "type": "number"
          }
         ],
         "pandas_version": "0.20.0",
         "primaryKey": [
          "race/ethnicity"
         ]
        }
       },
       "total_rows": 5
      },
      "text/html": [
       "<div>\n",
       "<style scoped>\n",
       "    .dataframe tbody tr th:only-of-type {\n",
       "        vertical-align: middle;\n",
       "    }\n",
       "\n",
       "    .dataframe tbody tr th {\n",
       "        vertical-align: top;\n",
       "    }\n",
       "\n",
       "    .dataframe thead th {\n",
       "        text-align: right;\n",
       "    }\n",
       "</style>\n",
       "<table border=\"1\" class=\"dataframe\">\n",
       "  <thead>\n",
       "    <tr style=\"text-align: right;\">\n",
       "      <th></th>\n",
       "      <th>math</th>\n",
       "      <th>reading</th>\n",
       "      <th>writing</th>\n",
       "    </tr>\n",
       "    <tr>\n",
       "      <th>race/ethnicity</th>\n",
       "      <th></th>\n",
       "      <th></th>\n",
       "      <th></th>\n",
       "    </tr>\n",
       "  </thead>\n",
       "  <tbody>\n",
       "    <tr>\n",
       "      <th>group A</th>\n",
       "      <td>61.629213</td>\n",
       "      <td>64.674157</td>\n",
       "      <td>62.674157</td>\n",
       "    </tr>\n",
       "    <tr>\n",
       "      <th>group B</th>\n",
       "      <td>63.452632</td>\n",
       "      <td>67.352632</td>\n",
       "      <td>65.600000</td>\n",
       "    </tr>\n",
       "    <tr>\n",
       "      <th>group C</th>\n",
       "      <td>64.463950</td>\n",
       "      <td>69.103448</td>\n",
       "      <td>67.827586</td>\n",
       "    </tr>\n",
       "    <tr>\n",
       "      <th>group D</th>\n",
       "      <td>67.362595</td>\n",
       "      <td>70.030534</td>\n",
       "      <td>70.145038</td>\n",
       "    </tr>\n",
       "    <tr>\n",
       "      <th>group E</th>\n",
       "      <td>73.821429</td>\n",
       "      <td>73.028571</td>\n",
       "      <td>71.407143</td>\n",
       "    </tr>\n",
       "  </tbody>\n",
       "</table>\n",
       "</div>"
      ],
      "text/plain": [
       "                     math    reading    writing\n",
       "race/ethnicity                                 \n",
       "group A         61.629213  64.674157  62.674157\n",
       "group B         63.452632  67.352632  65.600000\n",
       "group C         64.463950  69.103448  67.827586\n",
       "group D         67.362595  70.030534  70.145038\n",
       "group E         73.821429  73.028571  71.407143"
      ]
     },
     "execution_count": 296,
     "metadata": {},
     "output_type": "execute_result"
    }
   ],
   "source": [
    "# Defining how race/ethnicity impact on math, reading, writing\n",
    "df.groupby('race/ethnicity')[['math', 'reading', 'writing']].mean()"
   ]
  },
  {
   "cell_type": "code",
   "execution_count": 297,
   "id": "499d2695-2e0b-4405-90d7-1926765ed3c8",
   "metadata": {},
   "outputs": [
    {
     "data": {
      "text/plain": [
       "<AxesSubplot:xlabel='race/ethnicity', ylabel='Avarage score'>"
      ]
     },
     "execution_count": 297,
     "metadata": {},
     "output_type": "execute_result"
    },
    {
     "data": {
      "image/png": "[encoded data removed]",
      "text/plain": [
       "<Figure size 720x576 with 1 Axes>"
      ]
     },
     "metadata": {},
     "output_type": "display_data"
    }
   ],
   "source": [
    "# Visualization how race/ethnicity impact on the avarage score\n",
    "df_race = df.groupby('race/ethnicity')[['math', 'reading', 'writing', 'Avarage score']].mean()\n",
    "df_race.reset_index(inplace = True)\n",
    "plt.figure(figsize=(10, 8))\n",
    "sns.barplot(x = 'race/ethnicity', y = 'Avarage score', data = df_race, palette = 'flare')"
   ]
  },
  {
   "cell_type": "code",
   "execution_count": 298,
   "id": "ad4b0f3a-b56f-43ee-957a-52547dc5c909",
   "metadata": {},
   "outputs": [
    {
     "data": {
      "application/com.datacamp.data-table.v1+json": {
       "is_truncated": false,
       "table": {
        "data": [
         {
          "math": 67.8828828829,
          "parent_education_level": "associate's degree",
          "reading": 70.9279279279,
          "writing": 69.8963963964
         },
         {
          "math": 69.3898305085,
          "parent_education_level": "bachelor's degree",
          "reading": 73,
          "writing": 73.3813559322
         },
         {
          "math": 62.137755102,
          "parent_education_level": "high school",
          "reading": 64.7040816327,
          "writing": 62.4489795918
         },
         {
          "math": 69.7457627119,
          "parent_education_level": "master's degree",
          "reading": 75.3728813559,
          "writing": 75.6779661017
         },
         {
          "math": 67.1283185841,
          "parent_education_level": "some college",
          "reading": 69.4601769912,
          "writing": 68.8407079646
         },
         {
          "math": 63.4972067039,
          "parent_education_level": "some high school",
          "reading": 66.938547486,
          "writing": 64.8882681564
         }
        ],
        "schema": {
         "fields": [
          {
           "name": "parent_education_level",
           "type": "string"
          },
          {
           "name": "math",
           "type": "number"
          },
          {
           "name": "reading",
           "type": "number"
          },
          {
           "name": "writing",
           "type": "number"
          }
         ],
         "pandas_version": "0.20.0",
         "primaryKey": [
          "parent_education_level"
         ]
        }
       },
       "total_rows": 6
      },
      "text/html": [
       "<div>\n",
       "<style scoped>\n",
       "    .dataframe tbody tr th:only-of-type {\n",
       "        vertical-align: middle;\n",
       "    }\n",
       "\n",
       "    .dataframe tbody tr th {\n",
       "        vertical-align: top;\n",
       "    }\n",
       "\n",
       "    .dataframe thead th {\n",
       "        text-align: right;\n",
       "    }\n",
       "</style>\n",
       "<table border=\"1\" class=\"dataframe\">\n",
       "  <thead>\n",
       "    <tr style=\"text-align: right;\">\n",
       "      <th></th>\n",
       "      <th>math</th>\n",
       "      <th>reading</th>\n",
       "      <th>writing</th>\n",
       "    </tr>\n",
       "    <tr>\n",
       "      <th>parent_education_level</th>\n",
       "      <th></th>\n",
       "      <th></th>\n",
       "      <th></th>\n",
       "    </tr>\n",
       "  </thead>\n",
       "  <tbody>\n",
       "    <tr>\n",
       "      <th>associate's degree</th>\n",
       "      <td>67.882883</td>\n",
       "      <td>70.927928</td>\n",
       "      <td>69.896396</td>\n",
       "    </tr>\n",
       "    <tr>\n",
       "      <th>bachelor's degree</th>\n",
       "      <td>69.389831</td>\n",
       "      <td>73.000000</td>\n",
       "      <td>73.381356</td>\n",
       "    </tr>\n",
       "    <tr>\n",
       "      <th>high school</th>\n",
       "      <td>62.137755</td>\n",
       "      <td>64.704082</td>\n",
       "      <td>62.448980</td>\n",
       "    </tr>\n",
       "    <tr>\n",
       "      <th>master's degree</th>\n",
       "      <td>69.745763</td>\n",
       "      <td>75.372881</td>\n",
       "      <td>75.677966</td>\n",
       "    </tr>\n",
       "    <tr>\n",
       "      <th>some college</th>\n",
       "      <td>67.128319</td>\n",
       "      <td>69.460177</td>\n",
       "      <td>68.840708</td>\n",
       "    </tr>\n",
       "    <tr>\n",
       "      <th>some high school</th>\n",
       "      <td>63.497207</td>\n",
       "      <td>66.938547</td>\n",
       "      <td>64.888268</td>\n",
       "    </tr>\n",
       "  </tbody>\n",
       "</table>\n",
       "</div>"
      ],
      "text/plain": [
       "                             math    reading    writing\n",
       "parent_education_level                                 \n",
       "associate's degree      67.882883  70.927928  69.896396\n",
       "bachelor's degree       69.389831  73.000000  73.381356\n",
       "high school             62.137755  64.704082  62.448980\n",
       "master's degree         69.745763  75.372881  75.677966\n",
       "some college            67.128319  69.460177  68.840708\n",
       "some high school        63.497207  66.938547  64.888268"
      ]
     },
     "execution_count": 298,
     "metadata": {},
     "output_type": "execute_result"
    }
   ],
   "source": [
    "# Defining how parent education level impact on math, reading, writing\n",
    "df.groupby('parent_education_level')[['math', 'reading', 'writing']].mean()"
   ]
  },
  {
   "cell_type": "code",
   "execution_count": 299,
   "id": "033d4714-11bf-4ab7-a0de-ef4cc304de1f",
   "metadata": {},
   "outputs": [
    {
     "data": {
      "text/plain": [
       "<AxesSubplot:xlabel='parent_education_level', ylabel='Avarage score'>"
      ]
     },
     "execution_count": 299,
     "metadata": {},
     "output_type": "execute_result"
    },
    {
     "data": {
      "image/png": "[encoded data removed]",
      "text/plain": [
       "<Figure size 720x576 with 1 Axes>"
      ]
     },
     "metadata": {},
     "output_type": "display_data"
    }
   ],
   "source": [
    "# Visualization how parent education level impact on the avarage score\n",
    "df_parent_edu = df.groupby('parent_education_level')[['math', 'reading', 'writing', 'Avarage score']].mean()\n",
    "df_parent_edu.reset_index(inplace = True)\n",
    "plt.figure(figsize=(10, 8))\n",
    "sns.barplot(x = 'parent_education_level', y = 'Avarage score', data = df_parent_edu, palette = 'flare')"
   ]
  },
  {
   "cell_type": "code",
   "execution_count": 300,
   "id": "7e84c804-8ea0-4d90-b7cf-431d80da006c",
   "metadata": {},
   "outputs": [
    {
     "data": {
      "application/com.datacamp.data-table.v1+json": {
       "is_truncated": false,
       "table": {
        "data": [
         {
          "lunch": "free/reduced",
          "math": 58.9211267606,
          "reading": 64.6535211268,
          "writing": 63.0225352113
         },
         {
          "lunch": "standard",
          "math": 70.0341085271,
          "reading": 71.6542635659,
          "writing": 70.823255814
         }
        ],
        "schema": {
         "fields": [
          {
           "name": "lunch",
           "type": "string"
          },
          {
           "name": "math",
           "type": "number"
          },
          {
           "name": "reading",
           "type": "number"
          },
          {
           "name": "writing",
           "type": "number"
          }
         ],
         "pandas_version": "0.20.0",
         "primaryKey": [
          "lunch"
         ]
        }
       },
       "total_rows": 2
      },
      "text/html": [
       "<div>\n",
       "<style scoped>\n",
       "    .dataframe tbody tr th:only-of-type {\n",
       "        vertical-align: middle;\n",
       "    }\n",
       "\n",
       "    .dataframe tbody tr th {\n",
       "        vertical-align: top;\n",
       "    }\n",
       "\n",
       "    .dataframe thead th {\n",
       "        text-align: right;\n",
       "    }\n",
       "</style>\n",
       "<table border=\"1\" class=\"dataframe\">\n",
       "  <thead>\n",
       "    <tr style=\"text-align: right;\">\n",
       "      <th></th>\n",
       "      <th>math</th>\n",
       "      <th>reading</th>\n",
       "      <th>writing</th>\n",
       "    </tr>\n",
       "    <tr>\n",
       "      <th>lunch</th>\n",
       "      <th></th>\n",
       "      <th></th>\n",
       "      <th></th>\n",
       "    </tr>\n",
       "  </thead>\n",
       "  <tbody>\n",
       "    <tr>\n",
       "      <th>free/reduced</th>\n",
       "      <td>58.921127</td>\n",
       "      <td>64.653521</td>\n",
       "      <td>63.022535</td>\n",
       "    </tr>\n",
       "    <tr>\n",
       "      <th>standard</th>\n",
       "      <td>70.034109</td>\n",
       "      <td>71.654264</td>\n",
       "      <td>70.823256</td>\n",
       "    </tr>\n",
       "  </tbody>\n",
       "</table>\n",
       "</div>"
      ],
      "text/plain": [
       "                   math    reading    writing\n",
       "lunch                                        \n",
       "free/reduced  58.921127  64.653521  63.022535\n",
       "standard      70.034109  71.654264  70.823256"
      ]
     },
     "execution_count": 300,
     "metadata": {},
     "output_type": "execute_result"
    }
   ],
   "source": [
    "# Defining how lunch impact on math, reading, writing\n",
    "df.groupby('lunch')[['math', 'reading', 'writing']].mean()"
   ]
  },
  {
   "cell_type": "code",
   "execution_count": 301,
   "id": "46587b90-42cb-47f1-ad4c-9b576954618d",
   "metadata": {},
   "outputs": [
    {
     "data": {
      "text/plain": [
       "<AxesSubplot:xlabel='lunch', ylabel='Avarage score'>"
      ]
     },
     "execution_count": 301,
     "metadata": {},
     "output_type": "execute_result"
    },
    {
     "data": {
      "image/png": "[encoded data removed]",
      "text/plain": [
       "<Figure size 720x576 with 1 Axes>"
      ]
     },
     "metadata": {},
     "output_type": "display_data"
    }
   ],
   "source": [
    "# Visualization how lunch impact on the avarage score\n",
    "df_lunch = df.groupby('lunch')[['math', 'reading', 'writing', 'Avarage score']].mean()\n",
    "df_lunch.reset_index(inplace = True)\n",
    "plt.figure(figsize=(10, 8))\n",
    "sns.barplot(x = 'lunch', y = 'Avarage score', data = df_lunch, palette = 'flare')"
   ]
  },
  {
   "cell_type": "code",
   "execution_count": 302,
   "id": "701ee4e2-29e9-4878-8fa1-62a64870e865",
   "metadata": {},
   "outputs": [
    {
     "data": {
      "application/com.datacamp.data-table.v1+json": {
       "is_truncated": false,
       "table": {
        "data": [
         {
          "math": 69.6955307263,
          "reading": 73.8938547486,
          "test_prep_course": "completed",
          "writing": 74.4189944134
         },
         {
          "math": 64.0778816199,
          "reading": 66.5342679128,
          "test_prep_course": "none",
          "writing": 64.5046728972
         }
        ],
        "schema": {
         "fields": [
          {
           "name": "test_prep_course",
           "type": "string"
          },
          {
           "name": "math",
           "type": "number"
          },
          {
           "name": "reading",
           "type": "number"
          },
          {
           "name": "writing",
           "type": "number"
          }
         ],
         "pandas_version": "0.20.0",
         "primaryKey": [
          "test_prep_course"
         ]
        }
       },
       "total_rows": 2
      },
      "text/html": [
       "<div>\n",
       "<style scoped>\n",
       "    .dataframe tbody tr th:only-of-type {\n",
       "        vertical-align: middle;\n",
       "    }\n",
       "\n",
       "    .dataframe tbody tr th {\n",
       "        vertical-align: top;\n",
       "    }\n",
       "\n",
       "    .dataframe thead th {\n",
       "        text-align: right;\n",
       "    }\n",
       "</style>\n",
       "<table border=\"1\" class=\"dataframe\">\n",
       "  <thead>\n",
       "    <tr style=\"text-align: right;\">\n",
       "      <th></th>\n",
       "      <th>math</th>\n",
       "      <th>reading</th>\n",
       "      <th>writing</th>\n",
       "    </tr>\n",
       "    <tr>\n",
       "      <th>test_prep_course</th>\n",
       "      <th></th>\n",
       "      <th></th>\n",
       "      <th></th>\n",
       "    </tr>\n",
       "  </thead>\n",
       "  <tbody>\n",
       "    <tr>\n",
       "      <th>completed</th>\n",
       "      <td>69.695531</td>\n",
       "      <td>73.893855</td>\n",
       "      <td>74.418994</td>\n",
       "    </tr>\n",
       "    <tr>\n",
       "      <th>none</th>\n",
       "      <td>64.077882</td>\n",
       "      <td>66.534268</td>\n",
       "      <td>64.504673</td>\n",
       "    </tr>\n",
       "  </tbody>\n",
       "</table>\n",
       "</div>"
      ],
      "text/plain": [
       "                       math    reading    writing\n",
       "test_prep_course                                 \n",
       "completed         69.695531  73.893855  74.418994\n",
       "none              64.077882  66.534268  64.504673"
      ]
     },
     "execution_count": 302,
     "metadata": {},
     "output_type": "execute_result"
    }
   ],
   "source": [
    "# Defining how test course impact on math, reading, writing\n",
    "df.groupby('test_prep_course')[['math', 'reading', 'writing']].mean()"
   ]
  },
  {
   "cell_type": "code",
   "execution_count": 303,
   "id": "0ac36f7f-8b68-43df-836c-8366173fe6c2",
   "metadata": {},
   "outputs": [
    {
     "data": {
      "text/plain": [
       "<AxesSubplot:xlabel='test_prep_course', ylabel='Avarage score'>"
      ]
     },
     "execution_count": 303,
     "metadata": {},
     "output_type": "execute_result"
    },
    {
     "data": {
      "image/png": "[encoded data removed]",
      "text/plain": [
       "<Figure size 720x576 with 1 Axes>"
      ]
     },
     "metadata": {},
     "output_type": "display_data"
    }
   ],
   "source": [
    "# Visualization how test course impact on the avarage score\n",
    "df_test_prep_course = df.groupby('test_prep_course')[['math', 'reading', 'writing', 'Avarage score']].mean()\n",
    "df_test_prep_course.reset_index(inplace = True)\n",
    "plt.figure(figsize=(10, 8))\n",
    "sns.barplot(x = 'test_prep_course', y = 'Avarage score', data = df_test_prep_course, palette = 'flare')"
   ]
  }
 ],
 "metadata": {
  "kernelspec": {
   "display_name": "Python 3 (ipykernel)",
   "language": "python",
   "name": "python3"
  },
  "language_info": {
   "codemirror_mode": {
    "name": "ipython",
    "version": 3
   },
   "file_extension": ".py",
   "mimetype": "text/x-python",
   "name": "python",
   "nbconvert_exporter": "python",
   "pygments_lexer": "ipython3",
   "version": "3.8.10"
  }
 },
 "nbformat": 4,
 "nbformat_minor": 5
}
